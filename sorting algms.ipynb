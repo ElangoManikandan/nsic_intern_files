{
 "cells": [
  {
   "cell_type": "code",
   "execution_count": 2,
   "id": "9d8b72ee-e0f5-466c-92f6-2393f3888316",
   "metadata": {},
   "outputs": [
    {
     "name": "stdout",
     "output_type": "stream",
     "text": [
      "Hello World!\n"
     ]
    }
   ],
   "source": [
    "print(\"Hello World!\")\n"
   ]
  },
  {
   "cell_type": "raw",
   "id": "341d1bf1-61b8-470a-9f72-5d37a0b3a71a",
   "metadata": {},
   "source": [
    "Bubble Sort"
   ]
  },
  {
   "cell_type": "code",
   "execution_count": 11,
   "id": "9147f6e3-1159-461a-bb01-f067da8bd844",
   "metadata": {
    "scrolled": true
   },
   "outputs": [
    {
     "name": "stdout",
     "output_type": "stream",
     "text": [
      "Sorted array is:\n",
      "1\n",
      "2\n",
      "4\n",
      "5\n",
      "8\n",
      "49\n",
      "93\n"
     ]
    }
   ],
   "source": [
    "\n",
    "def bubbleSort(arr):\n",
    "    \n",
    "    n = len(arr)\n",
    "    for i in range(n):\n",
    "        for j in range(0, n - i - 1):\n",
    "            if arr[j] > arr[j + 1]:\n",
    "                arr[j], arr[j + 1] = arr[j + 1], arr[j]\n",
    "                \n",
    "arr = [ 5,2,4,8,93,1,49]\n",
    "\n",
    "bubbleSort(arr)\n",
    "\n",
    "print(\"Sorted array is:\")\n",
    "for i in range(len(arr)):\n",
    "    print(arr[i])\n"
   ]
  },
  {
   "cell_type": "raw",
   "id": "e15be4f7-7e88-46b1-8875-4ac3a2dde087",
   "metadata": {},
   "source": [
    "Selection Sort"
   ]
  },
  {
   "cell_type": "code",
   "execution_count": 7,
   "id": "02ad907a-7062-4145-9d79-8fad15c0525e",
   "metadata": {},
   "outputs": [
    {
     "name": "stdout",
     "output_type": "stream",
     "text": [
      "Sorted Array in Ascending Order is :\n",
      "[23, 43, 56, 75, 89]\n"
     ]
    }
   ],
   "source": [
    "\n",
    "def selectionSort(array, size):\n",
    "    \n",
    "    for s in range(size):\n",
    "        min_idx = s\n",
    "        \n",
    "        for i in range(s + 1, size):\n",
    "            if array[i] < array[min_idx]:\n",
    "                min_idx = i\n",
    "        (array[s], array[min_idx]) = (array[min_idx], array[s])\n",
    "data = [ 23,56,89,43,75]\n",
    "size = len(data)\n",
    "selectionSort(data, size)\n",
    "\n",
    "print('Sorted Array in Ascending Order is :')\n",
    "print(data)\n"
   ]
  },
  {
   "cell_type": "raw",
   "id": "e0ebbb8b-fb3e-4086-afcd-e60cc1d2d316",
   "metadata": {},
   "source": [
    "Insertion Sort"
   ]
  },
  {
   "cell_type": "code",
   "execution_count": 12,
   "id": "aefb9022-3b13-48b1-a5a9-2b5e2f842ece",
   "metadata": {},
   "outputs": [
    {
     "name": "stdout",
     "output_type": "stream",
     "text": [
      "The unsorted list is: [4, 7, 2, 8, 1, 0, 6]\n",
      "The sorted new list is: [0, 1, 2, 4, 6, 7, 8]\n"
     ]
    }
   ],
   "source": [
    "\n",
    "def insertion_sort(list1):    \n",
    "        for i in range(1, len(list1)):  \n",
    "  \n",
    "            a = list1[i]  \n",
    "            j = i - 1  \n",
    "          \n",
    "            while j >= 0 and a < list1[j]:  \n",
    "                list1[j + 1] = list1[j]  \n",
    "                j -= 1  \n",
    "                \n",
    "            list1[j + 1] = a  \n",
    "            \n",
    "        return list1   \n",
    "list1 = [ 4,7,2,8,1,0,6, ]  \n",
    "print(\"The unsorted list is:\", list1)  \n",
    "print(\"The sorted new list is:\", insertion_sort(list1))  \n"
   ]
  }
 ],
 "metadata": {
  "kernelspec": {
   "display_name": "Python 3 (ipykernel)",
   "language": "python",
   "name": "python3"
  },
  "language_info": {
   "codemirror_mode": {
    "name": "ipython",
    "version": 3
   },
   "file_extension": ".py",
   "mimetype": "text/x-python",
   "name": "python",
   "nbconvert_exporter": "python",
   "pygments_lexer": "ipython3",
   "version": "3.11.7"
  }
 },
 "nbformat": 4,
 "nbformat_minor": 5
}
