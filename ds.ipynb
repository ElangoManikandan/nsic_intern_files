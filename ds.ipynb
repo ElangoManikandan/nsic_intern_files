{
 "cells": [
  {
   "cell_type": "code",
   "execution_count": 7,
   "id": "6086cd3c-940f-4f45-9c60-4f8401e39cf0",
   "metadata": {},
   "outputs": [
    {
     "name": "stdout",
     "output_type": "stream",
     "text": [
      "[0, 1, 1]\n",
      "[1, 0, 1]\n",
      "[1, 1, 0]\n",
      "\n",
      "[0, 1, 0, 1]\n",
      "[1, 0, 1, 1]\n",
      "[0, 1, 0, 1]\n",
      "[1, 1, 1, 0]\n"
     ]
    }
   ],
   "source": [
    " def create_adjacency_matrix(V, edges):\n",
    "    matrix = [[0] * V for _ in range(V)]\n",
    "    \n",
    "    for edge in edges:\n",
    "        u, v = edge\n",
    "        matrix[u][v] = 1\n",
    "        matrix[v][u] = 1  # Undirected graph\n",
    "    \n",
    "    return matrix\n",
    "\n",
    "\n",
    "# Example 1\n",
    "V1 = 3\n",
    "edges1 = [(0, 1), (1, 2), (2, 0)]\n",
    "adj_matrix1 = create_adjacency_matrix(V1, edges1)\n",
    "for row in adj_matrix1:\n",
    "    print(row)\n",
    "print()\n",
    "\n",
    "# Example 2\n",
    "V2 = 4\n",
    "\n",
    "edges2 = [(0, 1), (1, 2), (1, 3), (2, 3), (3, 0)]\n",
    "adj_matrix2 = create_adjacency_matrix(V2, edges2)\n",
    "for row in adj_matrix2:\n",
    "    print(row)\n"
   ]
  },
  {
   "cell_type": "code",
   "execution_count": 2,
   "id": "9cb1d53c-2d7a-45fb-80a6-4886e4c1e81f",
   "metadata": {},
   "outputs": [
    {
     "name": "stdout",
     "output_type": "stream",
     "text": [
      "Vertex 0: -> 3 -> 2 -> 1 \n",
      "\n",
      "Vertex 1: -> 2 -> 0 \n",
      "\n",
      "Vertex 2: -> 1 -> 0 \n",
      "\n",
      "Vertex 3: -> 0 \n",
      "\n",
      "Vertex 4: \n",
      "\n"
     ]
    }
   ],
   "source": [
    "# Adjascency List  in Python\n",
    "\n",
    "\n",
    "class AdjNode:\n",
    "    def __init__(self, value):\n",
    "        self.vertex = value\n",
    "        self.next = None\n",
    "\n",
    "\n",
    "class Graph:\n",
    "    def __init__(self, num):\n",
    "        self.V = num\n",
    "        self.graph = [None] * self.V\n",
    "\n",
    "    # Add edges\n",
    "    def add_edge(self, s, d):\n",
    "        node = AdjNode(d)\n",
    "        node.next = self.graph[s]\n",
    "        self.graph[s] = node\n",
    "\n",
    "        node = AdjNode(s)\n",
    "        node.next = self.graph[d]\n",
    "        self.graph[d] = node\n",
    "\n",
    "    # Print the graph\n",
    "    def print_agraph(self):\n",
    "        for i in range(self.V):\n",
    "            print(\"Vertex \" + str(i) + \":\", end=\"\")\n",
    "            temp = self.graph[i]\n",
    "            while temp:\n",
    "                print(\" -> {}\".format(temp.vertex), end=\"\")\n",
    "                temp = temp.next\n",
    "            print(\" \\n\")\n",
    "\n",
    "\n",
    "if __name__ == \"__main__\":\n",
    "    V = 5\n",
    "\n",
    "    graph = Graph(V)\n",
    "    graph.add_edge(0, 1)\n",
    "    graph.add_edge(0, 2)\n",
    "    graph.add_edge(0, 3)\n",
    "    graph.add_edge(1, 2)\n",
    "\n",
    "    graph.print_agraph()"
   ]
  },
  {
   "cell_type": "code",
   "execution_count": 10,
   "id": "dec3eaad-acac-4d9a-a852-d83b4a6f2deb",
   "metadata": {},
   "outputs": [
    {
     "name": "stdout",
     "output_type": "stream",
     "text": [
      "Element is present at index 1\n"
     ]
    }
   ],
   "source": [
    "\n",
    "\n",
    "def binarySearch(array, x, low, high):\n",
    "\n",
    "    while low <= high:\n",
    "\n",
    "        mid = low + (high - low)//2\n",
    "\n",
    "        if array[mid] == x:\n",
    "            return mid\n",
    "\n",
    "        elif array[mid] < x:\n",
    "            low = mid + 1\n",
    "\n",
    "        else:\n",
    "            high = mid - 1\n",
    "\n",
    "    return -1\n",
    "\n",
    "\n",
    "array = [3, 4, 5, 6, 7, 8, 9]\n",
    "x = 4\n",
    "\n",
    "result = binarySearch(array, x, 0, len(array)-1)\n",
    "\n",
    "if result != -1:\n",
    "    print(\"Element is present at index \" + str(result))\n",
    "else:\n",
    "    print(\"Not found\")"
   ]
  },
  {
   "cell_type": "code",
   "execution_count": 4,
   "id": "88d1b968-610e-4a77-96da-fa103ab01c4e",
   "metadata": {},
   "outputs": [
    {
     "name": "stdin",
     "output_type": "stream",
     "text": [
      " 4 55 33 12 55 23 16 24 33 99 1 77 \n"
     ]
    },
    {
     "name": "stdout",
     "output_type": "stream",
     "text": [
      "1 4 12 16 23 24 33 33 55 55 77 99\n"
     ]
    }
   ],
   "source": [
    "def bubble_sort(arr):\n",
    "    n = len(arr)\n",
    "    for i in range(n):\n",
    "        for j in range(0, n-i-1):\n",
    "            if arr[j] > arr[j+1]:\n",
    "                arr[j], arr[j+1] = arr[j+1], arr[j]\n",
    "\n",
    "if __name__ == \"__main__\":\n",
    "    arr = list(map(int, input().split()))\n",
    "    \n",
    "    bubble_sort(arr)\n",
    "    \n",
    "    print(*arr)\n"
   ]
  },
  {
   "cell_type": "raw",
   "id": "a61580c2-1273-4f21-bec7-ea16de601801",
   "metadata": {},
   "source": [
    "Stack using set"
   ]
  },
  {
   "cell_type": "code",
   "execution_count": 2,
   "id": "6cc150c8-6905-41b8-9eb3-b05c16d4f28e",
   "metadata": {},
   "outputs": [
    {
     "name": "stdout",
     "output_type": "stream",
     "text": [
      "[1, 2, 3]\n",
      "3\n",
      "[1, 2]\n",
      "2\n",
      "False\n",
      "2\n"
     ]
    }
   ],
   "source": [
    "stack = []\n",
    "unique_elements = set()\n",
    "\n",
    "def push(stack, unique_elements, item):\n",
    "    if item not in unique_elements:\n",
    "        stack.append(item)\n",
    "        unique_elements.add(item)\n",
    "\n",
    "# Function to pop an element from the stack\n",
    "def pop(stack, unique_elements):\n",
    "    if stack:\n",
    "        item = stack.pop()\n",
    "        unique_elements.remove(item)\n",
    "        return item\n",
    "    raise IndexError(\"pop from an empty stack\")\n",
    "\n",
    "def peek(stack):\n",
    "    if stack:\n",
    "        return stack[-1]\n",
    "    raise IndexError(\"peek from an empty stack\")\n",
    "\n",
    "def is_empty(stack):\n",
    "    return len(stack) == 0\n",
    "\n",
    "def size(stack):\n",
    "    return len(stack)\n",
    "\n",
    "# Usage example\n",
    "push(stack, unique_elements, 1)\n",
    "push(stack, unique_elements, 2)\n",
    "push(stack, unique_elements, 2)  \n",
    "push(stack, unique_elements, 3)\n",
    "\n",
    "print(stack)  \n",
    "\n",
    "print(pop(stack, unique_elements))  \n",
    "print(stack)  \n",
    "\n",
    "print(peek(stack))  \n",
    "\n",
    "print(is_empty(stack))  \n",
    "print(size(stack))  \n"
   ]
  },
  {
   "cell_type": "code",
   "execution_count": null,
   "id": "ad2243b4-4786-4eac-8872-d8d0e6236bed",
   "metadata": {},
   "outputs": [],
   "source": []
  }
 ],
 "metadata": {
  "kernelspec": {
   "display_name": "Python 3 (ipykernel)",
   "language": "python",
   "name": "python3"
  },
  "language_info": {
   "codemirror_mode": {
    "name": "ipython",
    "version": 3
   },
   "file_extension": ".py",
   "mimetype": "text/x-python",
   "name": "python",
   "nbconvert_exporter": "python",
   "pygments_lexer": "ipython3",
   "version": "3.11.7"
  }
 },
 "nbformat": 4,
 "nbformat_minor": 5
}
