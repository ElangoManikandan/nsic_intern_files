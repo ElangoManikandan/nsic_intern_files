{
 "cells": [
  {
   "cell_type": "code",
   "execution_count": 12,
   "id": "7cbbc9a6-01a9-4c92-ba21-703b035f016e",
   "metadata": {},
   "outputs": [
    {
     "name": "stdout",
     "output_type": "stream",
     "text": [
      "minimum value:\n",
      " Product ID                   1\n",
      "Name              Accent Chair\n",
      "Category               Bedroom\n",
      "Price                    29.99\n",
      "Stock Quantity               8\n",
      "Ratings                    4.2\n",
      "dtype: object\n",
      "maximum_value:\n",
      " Product ID                 60\n",
      "Name              Workstation\n",
      "Category              Outdoor\n",
      "Price                  899.99\n",
      "Stock Quantity             50\n",
      "Ratings                   4.9\n",
      "dtype: object\n",
      "mean_value:\n",
      " Product ID         30.500000\n",
      "Price             374.656667\n",
      "Stock Quantity     20.533333\n",
      "Ratings             4.590000\n",
      "dtype: float64\n"
     ]
    }
   ],
   "source": [
    "import pandas as pd\n",
    "fd=pd.read_csv(\"furniture_dataset.csv\")\n",
    "min_value=fd.min()\n",
    "max_value=fd.max()\n",
    "mean_value=fd.select_dtypes(include=[\"number\"]).mean()\n",
    "\n",
    "print(\"minimum value:\\n\",min_value)\n",
    "print(\"maximum_value:\\n\",max_value)\n",
    "print(\"mean_value:\\n\",mean_value)"
   ]
  },
  {
   "cell_type": "code",
   "execution_count": null,
   "id": "f7e4c482-03c8-4e6f-b265-8b6652c17609",
   "metadata": {},
   "outputs": [],
   "source": []
  },
  {
   "cell_type": "code",
   "execution_count": null,
   "id": "17a8dbfe-3fa9-4b47-aa5c-4a0f47c15015",
   "metadata": {},
   "outputs": [],
   "source": []
  }
 ],
 "metadata": {
  "kernelspec": {
   "display_name": "Python 3 (ipykernel)",
   "language": "python",
   "name": "python3"
  },
  "language_info": {
   "codemirror_mode": {
    "name": "ipython",
    "version": 3
   },
   "file_extension": ".py",
   "mimetype": "text/x-python",
   "name": "python",
   "nbconvert_exporter": "python",
   "pygments_lexer": "ipython3",
   "version": "3.11.7"
  }
 },
 "nbformat": 4,
 "nbformat_minor": 5
}
